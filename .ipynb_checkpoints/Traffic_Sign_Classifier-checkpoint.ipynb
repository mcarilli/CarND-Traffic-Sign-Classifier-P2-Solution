{
 "cells": [
  {
   "cell_type": "markdown",
   "metadata": {
    "deletable": true,
    "editable": true
   },
   "source": [
    "# Self-Driving Car Engineer Nanodegree\n",
    "\n",
    "## Deep Learning\n",
    "\n",
    "## Project: Build a Traffic Sign Recognition Classifier\n",
    "\n",
    "In this notebook, a template is provided for you to implement your functionality in stages, which is required to successfully complete this project. If additional code is required that cannot be included in the notebook, be sure that the Python code is successfully imported and included in your submission if necessary. \n",
    "\n",
    "> **Note**: Once you have completed all of the code implementations, you need to finalize your work by exporting the iPython Notebook as an HTML document. Before exporting the notebook to html, all of the code cells need to have been run so that reviewers can see the final implementation and output. You can then export the notebook by using the menu above and navigating to  \\n\",\n",
    "    \"**File -> Download as -> HTML (.html)**. Include the finished document along with this notebook as your submission. \n",
    "\n",
    "In addition to implementing code, there is a writeup to complete. The writeup should be completed in a separate file, which can be either a markdown file or a pdf document. There is a [write up template](https://github.com/udacity/CarND-Traffic-Sign-Classifier-Project/blob/master/writeup_template.md) that can be used to guide the writing process. Completing the code template and writeup template will cover all of the [rubric points](https://review.udacity.com/#!/rubrics/481/view) for this project.\n",
    "\n",
    "The [rubric](https://review.udacity.com/#!/rubrics/481/view) contains \"Stand Out Suggestions\" for enhancing the project beyond the minimum requirements. The stand out suggestions are optional. If you decide to pursue the \"stand out suggestions\", you can include the code in this Ipython notebook and also discuss the results in the writeup file.\n",
    "\n",
    "\n",
    ">**Note:** Code and Markdown cells can be executed using the **Shift + Enter** keyboard shortcut. In addition, Markdown cells can be edited by typically double-clicking the cell to enter edit mode."
   ]
  },
  {
   "cell_type": "markdown",
   "metadata": {
    "deletable": true,
    "editable": true
   },
   "source": [
    "---\n",
    "## Step 0: Load The Data"
   ]
  },
  {
   "cell_type": "code",
   "execution_count": 1,
   "metadata": {
    "collapsed": false,
    "deletable": true,
    "editable": true
   },
   "outputs": [],
   "source": [
    "# Load pickled data\n",
    "import pickle\n",
    "\n",
    "# TODO: Fill this in based on where you saved the training and testing data\n",
    "\n",
    "training_file ='./traffic-signs-data/train.p'\n",
    "validation_file='./traffic-signs-data/valid.p'\n",
    "testing_file ='./traffic-signs-data/test.p'\n",
    "\n",
    "with open(training_file, mode='rb') as f:\n",
    "    train = pickle.load(f)\n",
    "with open(validation_file, mode='rb') as f:\n",
    "    valid = pickle.load(f)\n",
    "with open(testing_file, mode='rb') as f:\n",
    "    test = pickle.load(f)\n",
    "    \n",
    "X_train_uint8, y_train_unaugmented = train['features'], train['labels']\n",
    "X_valid_uint8, y_valid = valid['features'], valid['labels']\n",
    "X_test_uint8, y_test = test['features'], test['labels']"
   ]
  },
  {
   "cell_type": "markdown",
   "metadata": {
    "deletable": true,
    "editable": true
   },
   "source": [
    "---\n",
    "\n",
    "## Step 1: Dataset Summary & Exploration\n",
    "\n",
    "The pickled data is a dictionary with 4 key/value pairs:\n",
    "\n",
    "- `'features'` is a 4D array containing raw pixel data of the traffic sign images, (num examples, width, height, channels).\n",
    "- `'labels'` is a 1D array containing the label/class id of the traffic sign. The file `signnames.csv` contains id -> name mappings for each id.\n",
    "- `'sizes'` is a list containing tuples, (width, height) representing the original width and height the image.\n",
    "- `'coords'` is a list containing tuples, (x1, y1, x2, y2) representing coordinates of a bounding box around the sign in the image. **THESE COORDINATES ASSUME THE ORIGINAL IMAGE. THE PICKLED DATA CONTAINS RESIZED VERSIONS (32 by 32) OF THESE IMAGES**\n",
    "\n",
    "Complete the basic data summary below. Use python, numpy and/or pandas methods to calculate the data summary rather than hard coding the results. For example, the [pandas shape method](http://pandas.pydata.org/pandas-docs/stable/generated/pandas.DataFrame.shape.html) might be useful for calculating some of the summary results. "
   ]
  },
  {
   "cell_type": "markdown",
   "metadata": {
    "deletable": true,
    "editable": true
   },
   "source": [
    "### Provide a Basic Summary of the Data Set Using Python, Numpy and/or Pandas"
   ]
  },
  {
   "cell_type": "code",
   "execution_count": 2,
   "metadata": {
    "collapsed": false,
    "deletable": true,
    "editable": true
   },
   "outputs": [
    {
     "name": "stdout",
     "output_type": "stream",
     "text": [
      "Number of training examples = 34799\n",
      "Number of testing examples = 12630\n",
      "Image data shape = (32, 32, 3)\n",
      "Number of classes = 43\n"
     ]
    }
   ],
   "source": [
    "### Replace each question mark with the appropriate value. \n",
    "### Use python, pandas or numpy methods rather than hard coding the results\n",
    "import numpy as np\n",
    "\n",
    "# TODO: Number of training examples\n",
    "n_train_unaugmented = len(X_train_uint8)\n",
    "\n",
    "# TODO: Number of validation examples\n",
    "n_validation = len(X_valid_uint8)\n",
    "\n",
    "# TODO: Number of testing examples.\n",
    "n_test = len(X_test_uint8)\n",
    "\n",
    "# TODO: What's the shape of an traffic sign image?\n",
    "image_shape = X_train_uint8[0].shape\n",
    "\n",
    "# TODO: How many unique classes/labels there are in the dataset.\n",
    "# This method assumes that y_train contains at least one of every output class...which it\n",
    "# must, otherwise we would have no training data for that class.\n",
    "n_classes = np.max(y_train_unaugmented)-np.min(y_train_unaugmented)+1\n",
    "\n",
    "print(\"Number of training examples =\", n_train_unaugmented)\n",
    "print(\"Number of testing examples =\", n_test)\n",
    "print(\"Image data shape =\", image_shape)\n",
    "print(\"Number of classes =\", n_classes)"
   ]
  },
  {
   "cell_type": "markdown",
   "metadata": {
    "deletable": true,
    "editable": true
   },
   "source": [
    "### Include an exploratory visualization of the dataset"
   ]
  },
  {
   "cell_type": "markdown",
   "metadata": {
    "deletable": true,
    "editable": true
   },
   "source": [
    "Visualize the German Traffic Signs Dataset using the pickled file(s). This is open ended, suggestions include: plotting traffic sign images, plotting the count of each sign, etc. \n",
    "\n",
    "The [Matplotlib](http://matplotlib.org/) [examples](http://matplotlib.org/examples/index.html) and [gallery](http://matplotlib.org/gallery.html) pages are a great resource for doing visualizations in Python.\n",
    "\n",
    "**NOTE:** It's recommended you start with something simple first. If you wish to do more, come back to it after you've completed the rest of the sections. It can be interesting to look at the distribution of classes in the training, validation and test set. Is the distribution the same? Are there more examples of some classes than others?"
   ]
  },
  {
   "cell_type": "code",
   "execution_count": 3,
   "metadata": {
    "collapsed": false,
    "deletable": true,
    "editable": true
   },
   "outputs": [
    {
     "name": "stdout",
     "output_type": "stream",
     "text": [
      "9\n"
     ]
    },
    {
     "data": {
      "text/plain": [
       "[<matplotlib.lines.Line2D at 0x7fd02bc45588>]"
      ]
     },
     "execution_count": 3,
     "metadata": {},
     "output_type": "execute_result"
    },
    {
     "data": {
      "image/png": "[encoded data removed]",
      "text/plain": [
       "<matplotlib.figure.Figure at 0x7fd018129668>"
      ]
     },
     "metadata": {},
     "output_type": "display_data"
    },
    {
     "data": {
      "image/png": "[encoded data removed]",
      "text/plain": [
       "<matplotlib.figure.Figure at 0x7fd034463240>"
      ]
     },
     "metadata": {},
     "output_type": "display_data"
    },
    {
     "data": {
      "image/png": "[encoded data removed]",
      "text/plain": [
       "<matplotlib.figure.Figure at 0x7fd02bd8dc50>"
      ]
     },
     "metadata": {},
     "output_type": "display_data"
    },
    {
     "data": {
      "image/png": "[encoded data removed]",
      "text/plain": [
       "<matplotlib.figure.Figure at 0x7fd02bcaa2b0>"
      ]
     },
     "metadata": {},
     "output_type": "display_data"
    }
   ],
   "source": [
    "### Data exploration visualization code goes here.\n",
    "### Feel free to use as many code cells as needed.\n",
    "import matplotlib.pyplot as plt\n",
    "import random\n",
    "import scipy.ndimage as scnd\n",
    "# Visualizations will be shown in the notebook.\n",
    "%matplotlib inline\n",
    "\n",
    "index = random.randint(0,n_train_unaugmented)\n",
    "\n",
    "image = X_train_uint8[index].squeeze()\n",
    "\n",
    "plt.figure(figsize=(1,1))\n",
    "plt.imshow(image)\n",
    "\n",
    "print(y_train_unaugmented[index])\n",
    "\n",
    "# Print histograms of the labels in each data set.  \n",
    "# Some labels appear much more often than others.\n",
    "# However, the distribution of labels in the training, test, and validation sets is \n",
    "# very similar.\n",
    "plt.figure()\n",
    "hist_train = np.histogram(y_train_unaugmented,n_classes)\n",
    "plt.plot(np.arange(0,n_classes,1),hist_train[0])\n",
    "plt.figure()\n",
    "hist_valid = np.histogram(y_valid,n_classes)\n",
    "plt.plot(np.arange(0,n_classes,1),hist_valid[0])\n",
    "plt.figure()\n",
    "hist_test = np.histogram(y_test,n_classes)\n",
    "plt.plot(np.arange(0,n_classes,1),hist_test[0])"
   ]
  },
  {
   "cell_type": "markdown",
   "metadata": {
    "deletable": true,
    "editable": true
   },
   "source": [
    "----\n",
    "\n",
    "## Step 2: Design and Test a Model Architecture\n",
    "\n",
    "Design and implement a deep learning model that learns to recognize traffic signs. Train and test your model on the [German Traffic Sign Dataset](http://benchmark.ini.rub.de/?section=gtsrb&subsection=dataset).\n",
    "\n",
    "The LeNet-5 implementation shown in the [classroom](https://classroom.udacity.com/nanodegrees/nd013/parts/fbf77062-5703-404e-b60c-95b78b2f3f9e/modules/6df7ae49-c61c-4bb2-a23e-6527e69209ec/lessons/601ae704-1035-4287-8b11-e2c2716217ad/concepts/d4aca031-508f-4e0b-b493-e7b706120f81) at the end of the CNN lesson is a solid starting point. You'll have to change the number of classes and possibly the preprocessing, but aside from that it's plug and play! \n",
    "\n",
    "With the LeNet-5 solution from the lecture, you should expect a validation set accuracy of about 0.89. To meet specifications, the validation set accuracy will need to be at least 0.93. It is possible to get an even higher accuracy, but 0.93 is the minimum for a successful project submission. \n",
    "\n",
    "There are various aspects to consider when thinking about this problem:\n",
    "\n",
    "- Neural network architecture (is the network over or underfitting?)\n",
    "- Play around preprocessing techniques (normalization, rgb to grayscale, etc)\n",
    "- Number of examples per label (some have more than others).\n",
    "- Generate fake data.\n",
    "\n",
    "Here is an example of a [published baseline model on this problem](http://yann.lecun.com/exdb/publis/pdf/sermanet-ijcnn-11.pdf). It's not required to be familiar with the approach used in the paper but, it's good practice to try to read papers like these."
   ]
  },
  {
   "cell_type": "markdown",
   "metadata": {
    "deletable": true,
    "editable": true
   },
   "source": [
    "### Pre-process the Data Set (normalization, grayscale, etc.)"
   ]
  },
  {
   "cell_type": "markdown",
   "metadata": {
    "deletable": true,
    "editable": true
   },
   "source": [
    "Minimally, the image data should be normalized so that the data has mean zero and equal variance. For image data, `(pixel - 128)/ 128` is a quick way to approximately normalize the data and can be used in this project. \n",
    "\n",
    "Other pre-processing steps are optional. You can try different techniques to see if it improves performance. \n",
    "\n",
    "Use the code cell (or multiple code cells, if necessary) to implement the first step of your project."
   ]
  },
  {
   "cell_type": "code",
   "execution_count": 4,
   "metadata": {
    "collapsed": false,
    "deletable": true,
    "editable": true
   },
   "outputs": [
    {
     "name": "stdout",
     "output_type": "stream",
     "text": [
      "Before processing:\n",
      "X_train_uint8.dtype = uint8\n",
      "np.min(X_train_uint8) = 0\n",
      "np.max(X_train_uint8) = 255\n",
      "\n",
      "X_valid_uint8.dtype = uint8\n",
      "np.min(X_valid_uint8) = 0\n",
      "np.max(X_valid_uint8) = 255\n",
      "\n",
      "X_test_uint8.dtype = uint8\n",
      "np.min(X_test_uint8) = 0\n",
      "np.max(X_test_uint8) = 255\n",
      "\n",
      "After processing:\n",
      "X_train_unaugmented.dtype = float32\n",
      "np.min(X_train_unaugmented) = -1.0\n",
      "np.max(X_train_unaugmented) = 0.9921875\n",
      "\n",
      "X_valid.dtype = float32\n",
      "np.min(X_valid) = -1.0\n",
      "np.max(X_valid) = 0.9921875\n",
      "\n",
      "X_test.dtype = float32\n",
      "np.min(X_test) = -1.0\n",
      "np.max(X_test) = 0.9921875\n",
      "\n"
     ]
    }
   ],
   "source": [
    "### Preprocess the data here. It is required to normalize the data. Other preprocessing steps could include \n",
    "### converting to grayscale, etc.\n",
    "### Feel free to use as many code cells as needed.\n",
    "\n",
    "# I'm not going to convert to grayscale; it destroys data before the network even \n",
    "# has a chance to play with it.\n",
    "\n",
    "print(\"Before processing:\")\n",
    "\n",
    "print(\"X_train_uint8.dtype = {}\".format(X_train_uint8.dtype))\n",
    "print(\"np.min(X_train_uint8) = {}\".format(np.min(X_train_uint8)))\n",
    "print(\"np.max(X_train_uint8) = {}\".format(np.max(X_train_uint8)))\n",
    "print()\n",
    "print(\"X_valid_uint8.dtype = {}\".format(X_valid_uint8.dtype))\n",
    "print(\"np.min(X_valid_uint8) = {}\".format(np.min(X_valid_uint8)))\n",
    "print(\"np.max(X_valid_uint8) = {}\".format(np.max(X_valid_uint8)))\n",
    "print()\n",
    "print(\"X_test_uint8.dtype = {}\".format(X_test_uint8.dtype))\n",
    "print(\"np.min(X_test_uint8) = {}\".format(np.min(X_test_uint8)))\n",
    "print(\"np.max(X_test_uint8) = {}\".format(np.max(X_test_uint8)))\n",
    "print()\n",
    "\n",
    "# Normalize and convert to 32-bit floating point\n",
    "f128 = np.float32(128)\n",
    "X_train_unaugmented = (X_train_uint8.astype(np.float32)-f128)/f128\n",
    "X_valid = (X_valid_uint8.astype(np.float32)-f128)/f128\n",
    "X_test = (X_test_uint8.astype(np.float32)-f128)/f128\n",
    "\n",
    "# Sanity checks to ensure that the data is float32 and properly normalized\n",
    "print(\"After processing:\")\n",
    "\n",
    "print(\"X_train_unaugmented.dtype = {}\".format(X_train_unaugmented.dtype))\n",
    "print(\"np.min(X_train_unaugmented) = {}\".format(np.min(X_train_unaugmented)))\n",
    "print(\"np.max(X_train_unaugmented) = {}\".format(np.max(X_train_unaugmented)))\n",
    "print()\n",
    "print(\"X_valid.dtype = {}\".format(X_valid.dtype))\n",
    "print(\"np.min(X_valid) = {}\".format(np.min(X_valid)))\n",
    "print(\"np.max(X_valid) = {}\".format(np.max(X_valid)))\n",
    "print()\n",
    "print(\"X_test.dtype = {}\".format(X_test.dtype))\n",
    "print(\"np.min(X_test) = {}\".format(np.min(X_test)))\n",
    "print(\"np.max(X_test) = {}\".format(np.max(X_test)))\n",
    "print()"
   ]
  },
  {
   "cell_type": "markdown",
   "metadata": {
    "deletable": true,
    "editable": true
   },
   "source": [
    "### Define function to add a new training image based on an existing image by applying a slight rotation and adding a small amount of noise"
   ]
  },
  {
   "cell_type": "code",
   "execution_count": 5,
   "metadata": {
    "collapsed": false,
    "deletable": true,
    "editable": true
   },
   "outputs": [],
   "source": [
    "### Augment image with a small rotation and some random noise.\n",
    "# The input \"img\" should be a 32x32 image with 3 color channels and float32 pixel values.\n",
    "#\n",
    "# The output rotated_zoomed_with_noise is also 32x32x3, of type float32, normalized, with zero mean.\n",
    "def augment_image(img):\n",
    "    \n",
    "    # Rotate image by a random amount <= 15 degrees.\n",
    "    # The rotation operation resizes the image to a greater size, so we also zoom in to\n",
    "    # the central 32x32 section.  The sign should still be contained for smallish rotations.\n",
    "    angle = np.random.normal(0.,10)\n",
    "    if(angle > 15.):\n",
    "        angle = 15.\n",
    "    if(angle < -15.):\n",
    "        angle = -15.\n",
    "        \n",
    "    img = img.squeeze()\n",
    "    \n",
    "    rotated_img = scnd.interpolation.rotate(img,angle)\n",
    "    \n",
    "    # The rotation operation creates a larger image.  Zoom back to 32x32:\n",
    "    edge_added = rotated_img.shape[0]-32\n",
    "    bgn_zoomed = np.floor(edge_added/2).astype(int)\n",
    "    end_zoomed = bgn_zoomed + 32\n",
    "    rotated_zoomed_img = rotated_img[bgn_zoomed:end_zoomed,bgn_zoomed:end_zoomed,:]\n",
    "    # plt.figure(figsize=(1,1))\n",
    "    # plt.imshow(rotated_zoomed_img)\n",
    "    \n",
    "    noisy_img = rotated_zoomed_img + np.random.normal(0.,0.02,(32,32,3)).astype(np.float32)\n",
    "    # plt.figure(figsize=(1,1))\n",
    "    # plt.imshow(noisy_img)\n",
    "    # print(np.max(rotated_zoomed_img))\n",
    "    # print(np.max(noisy_img))\n",
    "    return noisy_img"
   ]
  },
  {
   "cell_type": "markdown",
   "metadata": {
    "deletable": true,
    "editable": true
   },
   "source": [
    "### Add augmented images such that each sign type has at least 500 examples.\n",
    "\n",
    "This may take a minute.  For convenience, there's a boolean switch to turn it off/on.  The rest of the lab will still work whether or not you choose to augment the data."
   ]
  },
  {
   "cell_type": "code",
   "execution_count": 6,
   "metadata": {
    "collapsed": false,
    "deletable": true,
    "editable": true
   },
   "outputs": [
    {
     "name": "stdout",
     "output_type": "stream",
     "text": [
      "Total augmented to add = 16891\n",
      "Class 0 has 180 examples.  Augmenting with 820 more.\n",
      "Class 6 has 360 examples.  Augmenting with 640 more.\n",
      "Class 14 has 690 examples.  Augmenting with 310 more.\n",
      "Class 15 has 540 examples.  Augmenting with 460 more.\n",
      "Class 16 has 360 examples.  Augmenting with 640 more.\n",
      "Class 17 has 990 examples.  Augmenting with 10 more.\n",
      "Class 19 has 180 examples.  Augmenting with 820 more.\n",
      "Class 20 has 300 examples.  Augmenting with 700 more.\n",
      "Class 21 has 270 examples.  Augmenting with 730 more.\n",
      "Class 22 has 330 examples.  Augmenting with 670 more.\n",
      "Class 23 has 450 examples.  Augmenting with 550 more.\n",
      "Class 24 has 240 examples.  Augmenting with 760 more.\n",
      "Class 26 has 540 examples.  Augmenting with 460 more.\n",
      "Class 27 has 210 examples.  Augmenting with 790 more.\n",
      "Class 28 has 480 examples.  Augmenting with 520 more.\n",
      "Class 29 has 240 examples.  Augmenting with 760 more.\n",
      "Class 30 has 390 examples.  Augmenting with 610 more.\n",
      "Class 31 has 690 examples.  Augmenting with 310 more.\n",
      "Class 32 has 210 examples.  Augmenting with 790 more.\n",
      "Class 33 has 599 examples.  Augmenting with 401 more.\n",
      "Class 34 has 360 examples.  Augmenting with 640 more.\n",
      "Class 36 has 330 examples.  Augmenting with 670 more.\n",
      "Class 37 has 180 examples.  Augmenting with 820 more.\n",
      "Class 39 has 270 examples.  Augmenting with 730 more.\n",
      "Class 40 has 300 examples.  Augmenting with 700 more.\n",
      "Class 41 has 210 examples.  Augmenting with 790 more.\n",
      "Class 42 has 210 examples.  Augmenting with 790 more.\n",
      "Size of augmented training set = 51690\n",
      "Length of X_train is now {} (51690, 32, 32, 3)\n"
     ]
    }
   ],
   "source": [
    "n_train = n_train_unaugmented\n",
    "\n",
    "# Decide to augment training set or not\n",
    "augment_training_set = True\n",
    "min_examples_per_label = 1000\n",
    "\n",
    "# Precompute number of examples to append, using histogram of training set\n",
    "if( augment_training_set ):\n",
    "    for i in range( 0, n_classes ):\n",
    "        if( hist_train[0][i] < min_examples_per_label ):\n",
    "            num_augmented_to_add = min_examples_per_label - hist_train[0][i]\n",
    "            n_train += num_augmented_to_add\n",
    "            \n",
    "            \n",
    "# Preallocated storage for augmented examples so we don't have to call append() in an\n",
    "# inner loop\n",
    "total_augmented_to_add = n_train - n_train_unaugmented\n",
    "print(\"Total augmented to add = {}\".format(total_augmented_to_add))\n",
    "X_train_augmented = \\\n",
    "    np.zeros( (total_augmented_to_add,image_shape[0],image_shape[1],image_shape[2]) )\n",
    "y_train_augmented = \\\n",
    "    np.zeros( total_augmented_to_add, dtype=int )\n",
    "    \n",
    "augmented_example = 0\n",
    "if( augment_training_set ):\n",
    "    for i in range( 0, n_classes):\n",
    "            if( hist_train[0][i] < min_examples_per_label ):\n",
    "                num_augmented_to_add = min_examples_per_label - hist_train[0][i]\n",
    "                print(\"Class {} has {} examples.  Augmenting with {} more.\".\\\n",
    "                    format( i, hist_train[0][i], num_augmented_to_add ) )\n",
    "                select_from_array = X_train_unaugmented[y_train_unaugmented == i]\n",
    "                for j in range( 0, num_augmented_to_add ):\n",
    "                    # Add a new image by picking a random existing example and augmenting it.\n",
    "                    index = random.randint(0,hist_train[0][i]-1)\n",
    "                    X_train_augmented[augmented_example] = \\\n",
    "                        augment_image( select_from_array[index] )\n",
    "                    y_train_augmented[augmented_example] = i\n",
    "                    augmented_example += 1\n",
    "            \n",
    "            \n",
    "X_train = np.concatenate((X_train_unaugmented,X_train_augmented))\n",
    "y_train = np.concatenate((y_train_unaugmented,y_train_augmented))\n",
    "\n",
    "print( \"Size of augmented training set = {}\".format( n_train ) )\n",
    "print( \"Length of X_train is now {}\",format(X_train.shape))"
   ]
  },
  {
   "cell_type": "code",
   "execution_count": 7,
   "metadata": {
    "collapsed": false,
    "deletable": true,
    "editable": true
   },
   "outputs": [
    {
     "name": "stdout",
     "output_type": "stream",
     "text": [
      "21\n"
     ]
    },
    {
     "data": {
      "text/plain": [
       "<matplotlib.image.AxesImage at 0x7fcf46cbd208>"
      ]
     },
     "execution_count": 7,
     "metadata": {},
     "output_type": "execute_result"
    },
    {
     "data": {
      "image/png": "[encoded data removed]",
      "text/plain": [
       "<matplotlib.figure.Figure at 0x7fd0181293c8>"
      ]
     },
     "metadata": {},
     "output_type": "display_data"
    }
   ],
   "source": [
    "### Visualize one of the augmented images, as well as its class label, as a sanity check:\n",
    "\n",
    "index = random.randint(0,total_augmented_to_add)\n",
    "print( y_train_augmented[index] )\n",
    "image = X_train_augmented[index].squeeze()\n",
    "plt.figure(figsize=(1,1))\n",
    "plt.imshow(image)"
   ]
  },
  {
   "cell_type": "code",
   "execution_count": 8,
   "metadata": {
    "collapsed": false,
    "deletable": true,
    "editable": true
   },
   "outputs": [],
   "source": [
    "### Shuffle data (will also be used prior to each epoch below)\n",
    "\n",
    "from sklearn.utils import shuffle\n",
    "\n",
    "X_train, y_train = shuffle(X_train, y_train)"
   ]
  },
  {
   "cell_type": "markdown",
   "metadata": {
    "deletable": true,
    "editable": true
   },
   "source": [
    "### Model Architecture"
   ]
  },
  {
   "cell_type": "code",
   "execution_count": 9,
   "metadata": {
    "collapsed": true,
    "deletable": true,
    "editable": true
   },
   "outputs": [],
   "source": [
    "### Hyperparameters\n",
    "\n",
    "import tensorflow as tf\n",
    "\n",
    "EPOCHS = 40\n",
    "BATCH_SIZE = 128\n",
    "rate = 0.001\n",
    "dropout = .75"
   ]
  },
  {
   "cell_type": "markdown",
   "metadata": {
    "deletable": true,
    "editable": true
   },
   "source": [
    "The network architecture below is just LeNet from the lab, with the input layer modified to accept color images (depth 3), and the final layer modified to output 43 classes instead of 10.  \n",
    "\n",
    "I have also added a dropout layer after each activation layer, with an externally tunable keep_prob.  This gives me another knob to turn if I suspect the network is overfitting."
   ]
  },
  {
   "cell_type": "code",
   "execution_count": 10,
   "metadata": {
    "collapsed": true,
    "deletable": true,
    "editable": true
   },
   "outputs": [],
   "source": [
    "from tensorflow.contrib.layers import flatten\n",
    "\n",
    "### Added a keep_prob for dropout layers to the argument list.\n",
    "def myLeNet(x, keep_prob):    \n",
    "    # Arguments used for tf.truncated_normal, randomly defines variables for the weights and biases for each layer\n",
    "    mu = 0\n",
    "    sigma = 0.1\n",
    "\n",
    "    # SOLUTION: Layer 1: Convolutional. Input = 32x32x3. Output = 28x28x6.\n",
    "    conv1_W = tf.Variable(tf.truncated_normal(shape=(5, 5, 3, 6), mean = mu, stddev = sigma))\n",
    "    conv1_b = tf.Variable(tf.zeros(6))\n",
    "    conv1   = tf.nn.conv2d(x, conv1_W, strides=[1, 1, 1, 1], padding='VALID') + conv1_b\n",
    "\n",
    "    # SOLUTION: Activation.\n",
    "    conv1 = tf.nn.relu(conv1)\n",
    "    # conv1 = tf.nn.sigmoid(conv1)\n",
    "    conv1 = tf.nn.dropout(conv1, keep_prob)\n",
    "\n",
    "    # SOLUTION: Pooling. Input = 28x28x6. Output = 14x14x6.\n",
    "    conv1 = tf.nn.max_pool(conv1, ksize=[1, 2, 2, 1], strides=[1, 2, 2, 1], padding='VALID')\n",
    "\n",
    "    # SOLUTION: Layer 2: Convolutional. Output = 10x10x16.\n",
    "    conv2_W = tf.Variable(tf.truncated_normal(shape=(5, 5, 6, 16), mean = mu, stddev = sigma))\n",
    "    conv2_b = tf.Variable(tf.zeros(16))\n",
    "    conv2   = tf.nn.conv2d(conv1, conv2_W, strides=[1, 1, 1, 1], padding='VALID') + conv2_b\n",
    "    \n",
    "    # SOLUTION: Activation.\n",
    "    conv2 = tf.nn.relu(conv2)\n",
    "    # conv2 = tf.nn.sigmoid(conv2)\n",
    "    conv2 = tf.nn.dropout(conv2, keep_prob)\n",
    "                          \n",
    "    # SOLUTION: Pooling. Input = 10x10x16. Output = 5x5x16.\n",
    "    conv2 = tf.nn.max_pool(conv2, ksize=[1, 2, 2, 1], strides=[1, 2, 2, 1], padding='VALID')\n",
    "\n",
    "    # SOLUTION: Flatten. Input = 5x5x16. Output = 400.\n",
    "    fc0   = flatten(conv2)\n",
    "    \n",
    "    # SOLUTION: Layer 3: Fully Connected. Input = 400. Output = 120.\n",
    "    fc1_W = tf.Variable(tf.truncated_normal(shape=(400, 120), mean = mu, stddev = sigma))\n",
    "    fc1_b = tf.Variable(tf.zeros(120))\n",
    "    fc1   = tf.matmul(fc0, fc1_W) + fc1_b\n",
    "    \n",
    "    # SOLUTION: Activation.\n",
    "    fc1    = tf.nn.relu(fc1)\n",
    "    # fc1 = tf.nn.sigmoid(fc1)\n",
    "    fc1 = tf.nn.dropout(fc1, keep_prob)\n",
    "\n",
    "    # SOLUTION: Layer 4: Fully Connected. Input = 120. Output = 84.\n",
    "    fc2_W  = tf.Variable(tf.truncated_normal(shape=(120, 84), mean = mu, stddev = sigma))\n",
    "    fc2_b  = tf.Variable(tf.zeros(84))\n",
    "    fc2    = tf.matmul(fc1, fc2_W) + fc2_b\n",
    "    \n",
    "    # SOLUTION: Activation.\n",
    "    fc2    = tf.nn.relu(fc2)\n",
    "    # fc2 = tf.nn.sigmoid(fc2)\n",
    "    fc2 = tf.nn.dropout(fc2, keep_prob)\n",
    "    \n",
    "    # SOLUTION: Layer 5: Fully Connected. Input = 84. Output = 43.\n",
    "    fc3_W  = tf.Variable(tf.truncated_normal(shape=(84, 43), mean = mu, stddev = sigma))\n",
    "    fc3_b  = tf.Variable(tf.zeros(43))\n",
    "    logits = tf.matmul(fc2, fc3_W) + fc3_b\n",
    "    \n",
    "    return logits\n"
   ]
  },
  {
   "cell_type": "markdown",
   "metadata": {
    "deletable": true,
    "editable": true
   },
   "source": [
    "Create placeholders for input data, features, and dropout probability.\n",
    "\n",
    "Also, define a function of y that one-hot encodes the data."
   ]
  },
  {
   "cell_type": "code",
   "execution_count": 11,
   "metadata": {
    "collapsed": true,
    "deletable": true,
    "editable": true
   },
   "outputs": [],
   "source": [
    "x = tf.placeholder(tf.float32, (None, 32, 32, 3))\n",
    "y = tf.placeholder(tf.int32, (None))\n",
    "\n",
    "# For dropout layers in myLeNet\n",
    "keep_prob = tf.placeholder(tf.float32)\n",
    "\n",
    "one_hot_y = tf.one_hot(y, n_classes)"
   ]
  },
  {
   "cell_type": "markdown",
   "metadata": {
    "deletable": true,
    "editable": true
   },
   "source": [
    "### Train, Validate and Test the Model"
   ]
  },
  {
   "cell_type": "markdown",
   "metadata": {
    "deletable": true,
    "editable": true
   },
   "source": [
    "A validation set can be used to assess how well the model is performing. A low accuracy on the training and validation\n",
    "sets imply underfitting. A high accuracy on the training set but low accuracy on the validation set implies overfitting."
   ]
  },
  {
   "cell_type": "markdown",
   "metadata": {
    "deletable": true,
    "editable": true
   },
   "source": [
    "### Training Operations"
   ]
  },
  {
   "cell_type": "code",
   "execution_count": 12,
   "metadata": {
    "collapsed": false,
    "deletable": true,
    "editable": true
   },
   "outputs": [],
   "source": [
    "# Initially using optimizer and loss operation from LeNet lab...if this fails, I will modify.\n",
    "\n",
    "logits = myLeNet(x, keep_prob)\n",
    "cross_entropy = tf.nn.softmax_cross_entropy_with_logits(labels=one_hot_y, logits=logits)\n",
    "loss_operation = tf.reduce_mean(cross_entropy)\n",
    "optimizer = tf.train.AdamOptimizer(learning_rate = rate)\n",
    "training_operation = optimizer.minimize(loss_operation)"
   ]
  },
  {
   "cell_type": "markdown",
   "metadata": {
    "deletable": true,
    "editable": true
   },
   "source": [
    "### Evaluation Operations\n",
    "\n",
    "For evaluation, we feed in a hardcoded keep_prob of 1.0 to the dropout layers."
   ]
  },
  {
   "cell_type": "code",
   "execution_count": null,
   "metadata": {
    "collapsed": false,
    "deletable": true,
    "editable": true
   },
   "outputs": [],
   "source": [
    "# These are also taken from the LeNet lab to begin with.\n",
    "\n",
    "correct_prediction = tf.equal(tf.argmax(logits, 1), tf.argmax(one_hot_y, 1))\n",
    "accuracy_operation = tf.reduce_mean(tf.cast(correct_prediction, tf.float32))\n",
    "saver = tf.train.Saver()\n",
    "\n",
    "def evaluate(X_data, y_data):\n",
    "    num_examples = len(X_data)\n",
    "    total_accuracy = 0\n",
    "    sess = tf.get_default_session()\n",
    "    for offset in range(0, num_examples, BATCH_SIZE):\n",
    "        batch_x, batch_y = X_data[offset:offset+BATCH_SIZE], y_data[offset:offset+BATCH_SIZE]\n",
    "        accuracy = sess.run(accuracy_operation, feed_dict={\n",
    "            x: batch_x, \n",
    "            y: batch_y,\n",
    "            keep_prob: 1.0})\n",
    "        total_accuracy += (accuracy * len(batch_x))\n",
    "    return total_accuracy / num_examples"
   ]
  },
  {
   "cell_type": "markdown",
   "metadata": {
    "deletable": true,
    "editable": true
   },
   "source": [
    "### Training Loop"
   ]
  },
  {
   "cell_type": "code",
   "execution_count": null,
   "metadata": {
    "collapsed": false,
    "deletable": true,
    "editable": true,
    "scrolled": true
   },
   "outputs": [
    {
     "name": "stdout",
     "output_type": "stream",
     "text": [
      "Training with 51690 examples...\n",
      "\n",
      "EPOCH 1 ...\n",
      "Training Accuracy   = 0.862\n",
      "Validation Accuracy = 0.763\n",
      "\n",
      "EPOCH 2 ...\n",
      "Training Accuracy   = 0.939\n",
      "Validation Accuracy = 0.854\n",
      "\n",
      "EPOCH 3 ...\n",
      "Training Accuracy   = 0.960\n",
      "Validation Accuracy = 0.900\n",
      "\n",
      "EPOCH 4 ...\n",
      "Training Accuracy   = 0.971\n",
      "Validation Accuracy = 0.900\n",
      "\n",
      "EPOCH 5 ...\n",
      "Training Accuracy   = 0.980\n",
      "Validation Accuracy = 0.924\n",
      "\n",
      "EPOCH 6 ...\n",
      "Training Accuracy   = 0.984\n",
      "Validation Accuracy = 0.915\n",
      "\n",
      "EPOCH 7 ...\n",
      "Training Accuracy   = 0.986\n",
      "Validation Accuracy = 0.929\n",
      "\n"
     ]
    }
   ],
   "source": [
    "### Train your model here.\n",
    "### Calculate and report the accuracy on the training and validation set.\n",
    "### Once a final model architecture is selected, \n",
    "### the accuracy on the test set should be calculated and reported as well.\n",
    "### Feel free to use as many code cells as needed.\n",
    "\n",
    "# Also taken from LeNet lab initially.  I added printing of validation accuracy to diagnose\n",
    "# overfitting/underfitting.\n",
    "\n",
    "with tf.Session() as sess:\n",
    "    sess.run(tf.global_variables_initializer())\n",
    "    num_examples = len(X_train)\n",
    "    print(\"Training with {} examples...\".format(num_examples))\n",
    "    print()\n",
    "    for i in range(EPOCHS):\n",
    "        X_train, y_train = shuffle(X_train, y_train)\n",
    "        for offset in range(0, num_examples, BATCH_SIZE):\n",
    "            end = offset + BATCH_SIZE\n",
    "            batch_x, batch_y = X_train[offset:end], y_train[offset:end]\n",
    "            sess.run(training_operation, feed_dict={\n",
    "                x: batch_x, \n",
    "                y: batch_y,\n",
    "                keep_prob: dropout})\n",
    "\n",
    "        print(\"EPOCH {} ...\".format(i+1))   \n",
    "        training_accuracy = evaluate(X_train, y_train)\n",
    "        print(\"Training Accuracy   = {:.3f}\".format(training_accuracy))\n",
    "        validation_accuracy = evaluate(X_valid, y_valid)\n",
    "        print(\"Validation Accuracy = {:.3f}\".format(validation_accuracy))\n",
    "        print()\n",
    "        \n",
    "    saver.save(sess, './lenet')\n",
    "    print(\"Model saved\")"
   ]
  },
  {
   "cell_type": "markdown",
   "metadata": {
    "deletable": true,
    "editable": true
   },
   "source": [
    "---\n",
    "\n",
    "## Step 3: Test a Model on New Images\n",
    "\n",
    "To give yourself more insight into how your model is working, download at least five pictures of German traffic signs from the web and use your model to predict the traffic sign type.\n",
    "\n",
    "You may find `signnames.csv` useful as it contains mappings from the class id (integer) to the actual sign name."
   ]
  },
  {
   "cell_type": "markdown",
   "metadata": {
    "deletable": true,
    "editable": true
   },
   "source": [
    "### Load and Output the Images"
   ]
  },
  {
   "cell_type": "markdown",
   "metadata": {
    "deletable": true,
    "editable": true
   },
   "source": [
    "First, choose some images online.  It helps to be able to view some examples from the existing dataset."
   ]
  },
  {
   "cell_type": "code",
   "execution_count": null,
   "metadata": {
    "collapsed": false,
    "deletable": true,
    "editable": true
   },
   "outputs": [],
   "source": [
    "# The following code lets me view sample images from the unaugmented input training data,\n",
    "# based on their numeric key.  This helps me find corresponding examples online.\n",
    "\n",
    "# Numeric key corresponding to a certain sign type, as found in signnames.csv\n",
    "numeric_key = 28\n",
    "select_from_array = X_train_uint8[y_train_unaugmented == numeric_key]\n",
    "index = random.randint(0,len(select_from_array))\n",
    "sample_image = select_from_array[index].squeeze()\n",
    "plt.figure(figsize=(1,1))\n",
    "plt.imshow(sample_image)"
   ]
  },
  {
   "cell_type": "code",
   "execution_count": null,
   "metadata": {
    "collapsed": false,
    "deletable": true,
    "editable": true
   },
   "outputs": [],
   "source": [
    "### Load the images and plot them here.\n",
    "### Feel free to use as many code cells as needed.\n",
    "import matplotlib.image as mpimg\n",
    "import scipy.misc as scms\n",
    "\n",
    "n_images_web = 5\n",
    "\n",
    "X_test_web_uint8 = np.zeros((n_images_web,32,32,3),dtype=np.uint8)\n",
    "print(X_test_web_uint8.dtype)\n",
    "\n",
    "dir = 'websigns/'\n",
    "names = ['bicyclecrossing.jpg',\\\n",
    "         'nopassing.jpg',\\\n",
    "         'straightorright.jpg',\\\n",
    "         'roadwork.jpg',\\\n",
    "         'childrencrossing.jpg']\n",
    "\n",
    "Y_test_web = np.array([29,9,36,25,28,])\n",
    "\n",
    "for name,i in zip(names,range(0,5)):\n",
    "    image = mpimg.imread(dir+name)\n",
    "    print(\"Image {} = {}\".format(i,name))\n",
    "    plt.figure()\n",
    "    plt.imshow(image)\n",
    "    # Resize to 32x32 and store in the array of test data\n",
    "    resized_image = scms.imresize(image,(32,32,3))\n",
    "    X_test_web_uint8[i] = resized_image"
   ]
  },
  {
   "cell_type": "markdown",
   "metadata": {
    "deletable": true,
    "editable": true
   },
   "source": [
    "### Predict the Sign Type for Each Image"
   ]
  },
  {
   "cell_type": "code",
   "execution_count": null,
   "metadata": {
    "collapsed": false,
    "deletable": true,
    "editable": true
   },
   "outputs": [],
   "source": [
    "### Run the predictions here and use the model to output the prediction for each image.\n",
    "### Make sure to pre-process the images with the same pre-processing pipeline used earlier.\n",
    "### Feel free to use as many code cells as needed.\n",
    "\n",
    "# Create normalized, zero-mean versions of web images\n",
    "f128 = np.float32(128)\n",
    "X_test_web = (X_test_web_uint8.astype(np.float32)-f128)/f128\n",
    "\n",
    "# plt.figure()\n",
    "# plt.imshow(X_test_web_uint8[1])\n",
    "\n",
    "# print(X_test_web[0].dtype)\n",
    "# print(np.max(X_test_web[0]))\n",
    "# print(np.min(X_test_web[0]))\n",
    "\n",
    "prediction = tf.argmax( logits, 1 )\n",
    "\n",
    "# Redeclare in case you want to run this cell alone.\n",
    "saver = tf.train.Saver()\n",
    "\n",
    "with tf.Session() as sess:\n",
    "    # Load the weights and bias\n",
    "    saver.restore(sess, './lenet')\n",
    "    output = sess.run(prediction, feed_dict={\n",
    "        x: X_test_web, \n",
    "        keep_prob: 1.0})\n",
    "    \n",
    "print(\"Output classes:\")\n",
    "print(\"Expected: \\n\\\n",
    "       29 (bicycles crossing), \\n\\\n",
    "       9 (no passing), \\n\\\n",
    "       36 (go straight or right), \\n\\\n",
    "       25 (road work), \\n\\\n",
    "       28 (children crossing)\")\n",
    "print('Actual:')\n",
    "print(output)\n"
   ]
  },
  {
   "cell_type": "markdown",
   "metadata": {
    "deletable": true,
    "editable": true
   },
   "source": [
    "### Analyze Performance"
   ]
  },
  {
   "cell_type": "code",
   "execution_count": null,
   "metadata": {
    "collapsed": false,
    "deletable": true,
    "editable": true
   },
   "outputs": [],
   "source": [
    "### Calculate the accuracy for these 5 new images. \n",
    "### For example, if the model predicted 1 out of 5 signs correctly, it's 20% accurate on these new images.\n",
    "with tf.Session() as sess:\n",
    "    saver.restore(sess,'./lenet')\n",
    "    accuracy = sess.run(accuracy_operation, feed_dict={\n",
    "            x: X_test_web, \n",
    "            y: Y_test_web,\n",
    "            keep_prob: 1.0})\n",
    "    print( \"Accuracy = {}%\".format( accuracy*100. ) )"
   ]
  },
  {
   "cell_type": "markdown",
   "metadata": {
    "deletable": true,
    "editable": true
   },
   "source": [
    "### Output Top 5 Softmax Probabilities For Each Image Found on the Web"
   ]
  },
  {
   "cell_type": "markdown",
   "metadata": {
    "deletable": true,
    "editable": true
   },
   "source": [
    "For each of the new images, print out the model's softmax probabilities to show the **certainty** of the model's predictions (limit the output to the top 5 probabilities for each image). [`tf.nn.top_k`](https://www.tensorflow.org/versions/r0.12/api_docs/python/nn.html#top_k) could prove helpful here. \n",
    "\n",
    "The example below demonstrates how tf.nn.top_k can be used to find the top k predictions for each image.\n",
    "\n",
    "`tf.nn.top_k` will return the values and indices (class ids) of the top k predictions. So if k=3, for each sign, it'll return the 3 largest probabilities (out of a possible 43) and the correspoding class ids.\n",
    "\n",
    "Take this numpy array as an example. The values in the array represent predictions. The array contains softmax probabilities for five candidate images with six possible classes. `tk.nn.top_k` is used to choose the three classes with the highest probability:\n",
    "\n",
    "```\n",
    "# (5, 6) array\n",
    "a = np.array([[ 0.24879643,  0.07032244,  0.12641572,  0.34763842,  0.07893497,\n",
    "         0.12789202],\n",
    "       [ 0.28086119,  0.27569815,  0.08594638,  0.0178669 ,  0.18063401,\n",
    "         0.15899337],\n",
    "       [ 0.26076848,  0.23664738,  0.08020603,  0.07001922,  0.1134371 ,\n",
    "         0.23892179],\n",
    "       [ 0.11943333,  0.29198961,  0.02605103,  0.26234032,  0.1351348 ,\n",
    "         0.16505091],\n",
    "       [ 0.09561176,  0.34396535,  0.0643941 ,  0.16240774,  0.24206137,\n",
    "         0.09155967]])\n",
    "```\n",
    "\n",
    "Running it through `sess.run(tf.nn.top_k(tf.constant(a), k=3))` produces:\n",
    "\n",
    "```\n",
    "TopKV2(values=array([[ 0.34763842,  0.24879643,  0.12789202],\n",
    "       [ 0.28086119,  0.27569815,  0.18063401],\n",
    "       [ 0.26076848,  0.23892179,  0.23664738],\n",
    "       [ 0.29198961,  0.26234032,  0.16505091],\n",
    "       [ 0.34396535,  0.24206137,  0.16240774]]), indices=array([[3, 0, 5],\n",
    "       [0, 1, 4],\n",
    "       [0, 5, 1],\n",
    "       [1, 3, 5],\n",
    "       [1, 4, 3]], dtype=int32))\n",
    "```\n",
    "\n",
    "Looking just at the first row we get `[ 0.34763842,  0.24879643,  0.12789202]`, you can confirm these are the 3 largest probabilities in `a`. You'll also notice `[3, 0, 5]` are the corresponding indices."
   ]
  },
  {
   "cell_type": "code",
   "execution_count": null,
   "metadata": {
    "collapsed": false,
    "deletable": true,
    "editable": true
   },
   "outputs": [],
   "source": [
    "### Print out the top five softmax probabilities for the predictions on the German traffic sign images found on the web. \n",
    "### Feel free to use as many code cells as needed.\n",
    "top_k_getter = tf.nn.top_k(tf.nn.softmax(logits),5)\n",
    "with tf.Session() as sess:\n",
    "    # Load the weights and bias\n",
    "    saver.restore(sess, './lenet')\n",
    "    output = sess.run(top_k_getter, feed_dict={\n",
    "        x: X_test_web, \n",
    "        keep_prob: 1.0})\n",
    "\n",
    "print(\"Top softmax probabilities:\")\n",
    "\n",
    "for i in range(5):\n",
    "    print()\n",
    "    print( \"{}:\".format( names[i] ) )\n",
    "    print( \"Probabilities\")\n",
    "    print(output.values[i])\n",
    "    print( \"Corresponding labels\")\n",
    "    print(output.indices[i])\n",
    "    plt.figure()\n",
    "    plt.bar(output.indices[i],output.values[i], align='center', alpha=0.5)\n",
    "    plt.xlim([0,42])\n",
    "    plt.title(\"{}, label = {}\".format( names[i], Y_test_web[i] ) )\n"
   ]
  },
  {
   "cell_type": "markdown",
   "metadata": {
    "deletable": true,
    "editable": true
   },
   "source": [
    "### Project Writeup\n",
    "\n",
    "Once you have completed the code implementation, document your results in a project writeup using this [template](https://github.com/udacity/CarND-Traffic-Sign-Classifier-Project/blob/master/writeup_template.md) as a guide. The writeup can be in a markdown or pdf file. "
   ]
  },
  {
   "cell_type": "markdown",
   "metadata": {
    "deletable": true,
    "editable": true
   },
   "source": [
    "> **Note**: Once you have completed all of the code implementations and successfully answered each question above, you may finalize your work by exporting the iPython Notebook as an HTML document. You can do this by using the menu above and navigating to  \\n\",\n",
    "    \"**File -> Download as -> HTML (.html)**. Include the finished document along with this notebook as your submission."
   ]
  },
  {
   "cell_type": "markdown",
   "metadata": {
    "deletable": true,
    "editable": true
   },
   "source": [
    "---\n",
    "\n",
    "## Step 4 (Optional): Visualize the Neural Network's State with Test Images\n",
    "\n",
    " This Section is not required to complete but acts as an additional excersise for understaning the output of a neural network's weights. While neural networks can be a great learning device they are often referred to as a black box. We can understand what the weights of a neural network look like better by plotting their feature maps. After successfully training your neural network you can see what it's feature maps look like by plotting the output of the network's weight layers in response to a test stimuli image. From these plotted feature maps, it's possible to see what characteristics of an image the network finds interesting. For a sign, maybe the inner network feature maps react with high activation to the sign's boundary outline or to the contrast in the sign's painted symbol.\n",
    "\n",
    " Provided for you below is the function code that allows you to get the visualization output of any tensorflow weight layer you want. The inputs to the function should be a stimuli image, one used during training or a new one you provided, and then the tensorflow variable name that represents the layer's state during the training process, for instance if you wanted to see what the [LeNet lab's](https://classroom.udacity.com/nanodegrees/nd013/parts/fbf77062-5703-404e-b60c-95b78b2f3f9e/modules/6df7ae49-c61c-4bb2-a23e-6527e69209ec/lessons/601ae704-1035-4287-8b11-e2c2716217ad/concepts/d4aca031-508f-4e0b-b493-e7b706120f81) feature maps looked like for it's second convolutional layer you could enter conv2 as the tf_activation variable.\n",
    "\n",
    "For an example of what feature map outputs look like, check out NVIDIA's results in their paper [End-to-End Deep Learning for Self-Driving Cars](https://devblogs.nvidia.com/parallelforall/deep-learning-self-driving-cars/) in the section Visualization of internal CNN State. NVIDIA was able to show that their network's inner weights had high activations to road boundary lines by comparing feature maps from an image with a clear path to one without. Try experimenting with a similar test to show that your trained network's weights are looking for interesting features, whether it's looking at differences in feature maps from images with or without a sign, or even what feature maps look like in a trained network vs a completely untrained one on the same sign image.\n",
    "\n",
    "<figure>\n",
    " <img src=\"visualize_cnn.png\" width=\"380\" alt=\"Combined Image\" />\n",
    " <figcaption>\n",
    " <p></p> \n",
    " <p style=\"text-align: center;\"> Your output should look something like this (above)</p> \n",
    " </figcaption>\n",
    "</figure>\n",
    " <p></p> \n"
   ]
  },
  {
   "cell_type": "code",
   "execution_count": null,
   "metadata": {
    "collapsed": true,
    "deletable": true,
    "editable": true
   },
   "outputs": [],
   "source": [
    "### Visualize your network's feature maps here.\n",
    "### Feel free to use as many code cells as needed.\n",
    "\n",
    "# image_input: the test image being fed into the network to produce the feature maps\n",
    "# tf_activation: should be a tf variable name used during your training procedure that represents the calculated state of a specific weight layer\n",
    "# activation_min/max: can be used to view the activation contrast in more detail, by default matplot sets min and max to the actual min and max values of the output\n",
    "# plt_num: used to plot out multiple different weight feature map sets on the same block, just extend the plt number for each new feature map entry\n",
    "\n",
    "def outputFeatureMap(image_input, tf_activation, activation_min=-1, activation_max=-1 ,plt_num=1):\n",
    "    # Here make sure to preprocess your image_input in a way your network expects\n",
    "    # with size, normalization, ect if needed\n",
    "    # image_input =\n",
    "    # Note: x should be the same name as your network's tensorflow data placeholder variable\n",
    "    # If you get an error tf_activation is not defined it may be having trouble accessing the variable from inside a function\n",
    "    activation = tf_activation.eval(session=sess,feed_dict={x : image_input})\n",
    "    featuremaps = activation.shape[3]\n",
    "    plt.figure(plt_num, figsize=(15,15))\n",
    "    for featuremap in range(featuremaps):\n",
    "        plt.subplot(6,8, featuremap+1) # sets the number of feature maps to show on each row and column\n",
    "        plt.title('FeatureMap ' + str(featuremap)) # displays the feature map number\n",
    "        if activation_min != -1 & activation_max != -1:\n",
    "            plt.imshow(activation[0,:,:, featuremap], interpolation=\"nearest\", vmin =activation_min, vmax=activation_max, cmap=\"gray\")\n",
    "        elif activation_max != -1:\n",
    "            plt.imshow(activation[0,:,:, featuremap], interpolation=\"nearest\", vmax=activation_max, cmap=\"gray\")\n",
    "        elif activation_min !=-1:\n",
    "            plt.imshow(activation[0,:,:, featuremap], interpolation=\"nearest\", vmin=activation_min, cmap=\"gray\")\n",
    "        else:\n",
    "            plt.imshow(activation[0,:,:, featuremap], interpolation=\"nearest\", cmap=\"gray\")"
   ]
  }
 ],
 "metadata": {
  "anaconda-cloud": {},
  "kernelspec": {
   "display_name": "Python 3",
   "language": "python",
   "name": "python3"
  },
  "language_info": {
   "codemirror_mode": {
    "name": "ipython",
    "version": 3
   },
   "file_extension": ".py",
   "mimetype": "text/x-python",
   "name": "python",
   "nbconvert_exporter": "python",
   "pygments_lexer": "ipython3",
   "version": "3.5.2"
  },
  "widgets": {
   "state": {},
   "version": "1.1.2"
  }
 },
 "nbformat": 4,
 "nbformat_minor": 1
}
